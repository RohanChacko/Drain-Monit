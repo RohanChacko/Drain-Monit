{
 "cells": [
  {
   "cell_type": "code",
   "execution_count": 1,
   "metadata": {},
   "outputs": [],
   "source": [
    "import numpy as np"
   ]
  },
  {
   "cell_type": "code",
   "execution_count": 76,
   "metadata": {},
   "outputs": [
    {
     "data": {
      "text/plain": [
       "(100000, 1)"
      ]
     },
     "execution_count": 76,
     "metadata": {},
     "output_type": "execute_result"
    }
   ],
   "source": [
    "# rain , radius, angle, altitute\n",
    "nsample = 100000\n",
    "# rainfall in mm, hyd goes form around 5 to 180\n",
    "rainfall = np.sqrt(np.random.randint(5,high=180,size=(1,nsample)))\n",
    "# diameter in inches 2 to 24\n",
    "diameter = np.square(np.random.randint(2,high=24,size=(1,nsample)))\n",
    "# hyd average is 500\n",
    "elevation = np.random.randint(400,high=600,size=(1,nsample))\n",
    "# max of 60 degree\n",
    "angle = np.random.randint(0,high=60,size=(1,nsample))\n",
    "rainfall.T.shape"
   ]
  },
  {
   "cell_type": "code",
   "execution_count": 77,
   "metadata": {},
   "outputs": [
    {
     "name": "stdout",
     "output_type": "stream",
     "text": [
      "559.0169943749476 17414.772040064912\n"
     ]
    }
   ],
   "source": [
    "r = 100\n",
    "d = 10\n",
    "e = 1\n",
    "a = 5\n",
    "\n",
    "y = (e*elevation-d*diameter+ a*angle+6000+ r*rainfall+ np.random.randint(-120,high=120)).reshape((nsample,1))\n",
    "y = 100 + (y-1300)*2.5\n",
    "print(np.min(y),np.max(y))"
   ]
  },
  {
   "cell_type": "code",
   "execution_count": 83,
   "metadata": {},
   "outputs": [],
   "source": [
    "X = np.hstack((elevation.T,diameter.T,angle.T,rainfall.T,))"
   ]
  },
  {
   "cell_type": "code",
   "execution_count": 84,
   "metadata": {},
   "outputs": [],
   "source": [
    "X_train, X_test = X[:80000], X[80000:]\n",
    "y_train, y_test = y[:80000], y[80000:]"
   ]
  },
  {
   "cell_type": "code",
   "execution_count": 85,
   "metadata": {},
   "outputs": [
    {
     "data": {
      "text/plain": [
       "1.586094282509397e-21"
      ]
     },
     "execution_count": 85,
     "metadata": {},
     "output_type": "execute_result"
    }
   ],
   "source": [
    "# Create linear regression object\n",
    "from sklearn import datasets, linear_model\n",
    "regr = linear_model.LinearRegression()\n",
    "from sklearn.metrics import mean_squared_error\n",
    "\n",
    "# Train the model using the training sets\n",
    "regr.fit(X_train, y_train)\n",
    "\n",
    "# Make predictions using the testing set\n",
    "y_pred = regr.predict(X_test)\n",
    "mean_squared_error(y_test,y_pred) \n"
   ]
  },
  {
   "cell_type": "code",
   "execution_count": 86,
   "metadata": {},
   "outputs": [
    {
     "name": "stdout",
     "output_type": "stream",
     "text": [
      "[  2.5 -25.   12.5 250. ]\n",
      "12045.000000000027\n"
     ]
    }
   ],
   "source": [
    "print(regr.coef_[0])\n",
    "print(regr.intercept_[0])"
   ]
  },
  {
   "cell_type": "code",
   "execution_count": 87,
   "metadata": {},
   "outputs": [
    {
     "name": "stdout",
     "output_type": "stream",
     "text": [
      "0.005286501853142375 15.204546691560974\n"
     ]
    }
   ],
   "source": [
    "vel = y[:3000]/diameter[:3000]*0.0035\n",
    "print(np.min(vel),np.max(vel))"
   ]
  },
  {
   "cell_type": "code",
   "execution_count": null,
   "metadata": {},
   "outputs": [],
   "source": []
  }
 ],
 "metadata": {
  "kernelspec": {
   "display_name": "Python 3",
   "language": "python",
   "name": "python3"
  },
  "language_info": {
   "codemirror_mode": {
    "name": "ipython",
    "version": 3
   },
   "file_extension": ".py",
   "mimetype": "text/x-python",
   "name": "python",
   "nbconvert_exporter": "python",
   "pygments_lexer": "ipython3",
   "version": "3.7.3"
  }
 },
 "nbformat": 4,
 "nbformat_minor": 2
}
